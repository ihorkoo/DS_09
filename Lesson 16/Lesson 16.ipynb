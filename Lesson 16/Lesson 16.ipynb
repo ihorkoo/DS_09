{
 "cells": [
  {
   "cell_type": "markdown",
   "metadata": {},
   "source": [
    "___\n",
    "\n",
    "<a href='https://mainacademy.ua/'> <img src='https://mainacademy.ua/wp-content/uploads/2019/03/logo-main.png' alt = 'Хмм, щось з інтернетом'/></a>\n",
    "___\n",
    "\n",
    "# Module 3: Math for Data Science"
   ]
  },
  {
   "cell_type": "markdown",
   "metadata": {},
   "source": [
    "## Lab work 3"
   ]
  },
  {
   "cell_type": "code",
   "execution_count": null,
   "metadata": {},
   "outputs": [],
   "source": [
    "import numpy as np \n",
    "\n",
    "x = np.array([0.5, 0.5])\n",
    "y = np.array([0.3, 0.7])"
   ]
  },
  {
   "cell_type": "code",
   "execution_count": null,
   "metadata": {},
   "outputs": [],
   "source": [
    "# скалярний добуток\n",
    "np.sum(x*y) \n",
    "x @ y"
   ]
  },
  {
   "cell_type": "code",
   "execution_count": null,
   "metadata": {},
   "outputs": [],
   "source": [
    "#Евклідова норма\n",
    "np.linalg.norm(x)"
   ]
  },
  {
   "cell_type": "code",
   "execution_count": null,
   "metadata": {},
   "outputs": [],
   "source": [
    "np.sqrt(np.sum(x**2))"
   ]
  },
  {
   "cell_type": "code",
   "execution_count": null,
   "metadata": {},
   "outputs": [],
   "source": [
    "#Мангеттенська норма\n",
    "np.sum(np.abs(x))"
   ]
  },
  {
   "cell_type": "code",
   "execution_count": null,
   "metadata": {},
   "outputs": [],
   "source": [
    "np.linalg.norm(x, ord=1)"
   ]
  },
  {
   "cell_type": "code",
   "execution_count": null,
   "metadata": {},
   "outputs": [],
   "source": [
    "?np.linalg.norm"
   ]
  },
  {
   "cell_type": "code",
   "execution_count": null,
   "metadata": {},
   "outputs": [],
   "source": [
    "#Кут між векторами"
   ]
  },
  {
   "cell_type": "code",
   "execution_count": null,
   "metadata": {},
   "outputs": [],
   "source": [
    "cos_a = (x @ y) / (np.linalg.norm(x) * np.linalg.norm(y))"
   ]
  },
  {
   "cell_type": "code",
   "execution_count": null,
   "metadata": {},
   "outputs": [],
   "source": [
    "np.degrees(np.arccos(cos_a))"
   ]
  },
  {
   "cell_type": "code",
   "execution_count": null,
   "metadata": {},
   "outputs": [],
   "source": [
    "np.linalg.norm(x-y)"
   ]
  },
  {
   "cell_type": "code",
   "execution_count": null,
   "metadata": {},
   "outputs": [],
   "source": [
    "s = np.array([1_000]*9 + [50_000])\n",
    "s"
   ]
  },
  {
   "cell_type": "code",
   "execution_count": null,
   "metadata": {},
   "outputs": [],
   "source": [
    "s.mean()"
   ]
  },
  {
   "cell_type": "code",
   "execution_count": null,
   "metadata": {},
   "outputs": [],
   "source": [
    "np.median(s)"
   ]
  },
  {
   "cell_type": "markdown",
   "metadata": {},
   "source": [
    "### Задача 1"
   ]
  },
  {
   "cell_type": "markdown",
   "metadata": {},
   "source": [
    "Витрати на рекламу в місяць не повинні перевищувати 10 000 $. \n",
    "\n",
    "Хвилина радіореклами коштує 5, а телереклами 90\n",
    "\n",
    "Фірма має намір використовувати радіорекламу в три рази частіше ніж телерекламу. \n",
    "\n",
    "Практика показує, що 1 хвилина телереклами забезпечує обсяг продажів в 30 разів більший ніж 1 хвилина радіореклами."
   ]
  },
  {
   "cell_type": "markdown",
   "metadata": {},
   "source": [
    "**Умови:**\n",
    "\n",
    "$ x1 $ - к-сть хв на радіорекламу \n",
    "\n",
    "$ x2 $ - к-сть хв на телерекламу \n",
    "\n",
    "$ 30x1 + x2 -> max$\n",
    "\n",
    "$ 5x1+90x2 <=10000 $\n",
    "\n",
    "$ 3x2 = x1 $\n",
    "\n",
    "\n"
   ]
  },
  {
   "cell_type": "code",
   "execution_count": null,
   "metadata": {},
   "outputs": [],
   "source": []
  },
  {
   "cell_type": "code",
   "execution_count": 41,
   "metadata": {},
   "outputs": [
    {
     "name": "stderr",
     "output_type": "stream",
     "text": [
      "C:\\Users\\i.betlei\\Anaconda3\\lib\\site-packages\\numpy\\core\\fromnumeric.py:87: VisibleDeprecationWarning: Creating an ndarray from ragged nested sequences (which is a list-or-tuple of lists-or-tuples-or ndarrays with different lengths or shapes) is deprecated. If you meant to do this, you must specify 'dtype=object' when creating the ndarray\n",
      "  return ufunc.reduce(obj, axis, dtype, out, **passkwargs)\n"
     ]
    },
    {
     "data": {
      "text/plain": [
       "     con: array([-4.82184248e-09])\n",
       "     fun: -1199.999997177615\n",
       " message: 'Optimization terminated successfully.'\n",
       "     nit: 5\n",
       "   slack: array([2.39136607e-05])\n",
       "  status: 0\n",
       " success: True\n",
       "       x: array([ 36.36363628, 109.09090883])"
      ]
     },
     "execution_count": 41,
     "metadata": {},
     "output_type": "execute_result"
    }
   ],
   "source": [
    "from scipy.optimize import linprog\n",
    "\n",
    "\n",
    "c = [-30,-1] #Функция цели\n",
    "A_ub = [[5,90]]  #'1'   \n",
    "b_ub = [10000]#'1'   \n",
    "A_eq = [[3,-1]] #'2'   \n",
    "b_eq = [0] #'2'   \n",
    "\n",
    "linprog(c, A_ub, b_ub, A_eq, b_eq)\n"
   ]
  },
  {
   "cell_type": "code",
   "execution_count": 42,
   "metadata": {},
   "outputs": [
    {
     "data": {
      "text/plain": [
       "9999.9"
      ]
     },
     "execution_count": 42,
     "metadata": {},
     "output_type": "execute_result"
    }
   ],
   "source": [
    " 36.36* 5 + 90* 109.09"
   ]
  },
  {
   "cell_type": "markdown",
   "metadata": {},
   "source": [
    "### Задача 2"
   ]
  },
  {
   "cell_type": "markdown",
   "metadata": {},
   "source": [
    "Скільки потрібно працівників на роботу в ресторан, якщо один працівник працює 5 днів в тижень.\n",
    "Враховуючи наплив клієнтів, в кожен день тижня потрібна певна к-сть працівників:\n",
    "\n",
    "Д1 = 14\n",
    "\n",
    "Д2 = 13\n",
    "\n",
    "Д3 = 15\n",
    "\n",
    "Д4 = 16\n",
    "\n",
    "Д5 = 19\n",
    "\n",
    "Д6 = 18 \n",
    "\n",
    "Д7 = 11 "
   ]
  },
  {
   "cell_type": "markdown",
   "metadata": {},
   "source": [
    "Дану задачу можна представити такою системою:\n",
    "$$\n",
    " \\begin{array}{rll}\n",
    " \\displaystyle \\min_{x\\in \\mathbb{R}^7} & x_1 + x_2 + x_3 + x_4 + x_5 + x_6 + x_7 \\\\\n",
    " \\,{\\rm s.t.} & \\begin{array}[t]{rcl}\n",
    "            x_1 + x_4 + x_5 + x_6 + x_7 & \\geq & 14 \\\\\n",
    "            x_1 + x_2 + x_5 + x_6 + x_7 & \\geq & 13 \\\\\n",
    "            x_1 + x_2 + x_3 + x_6 + x_7 & \\geq & 15 \\\\\n",
    "            x_1 + x_2 + x_3 + x_4 + x_7 & \\geq & 16 \\\\\n",
    "            x_1 + x_2 + x_3 + x_4 + x_5 & \\geq & 19 \\\\\n",
    "            x_2 + x_3 + x_4 + x_5 + x_6 & \\geq & 18 \\\\\n",
    "            x_3 + x_4 + x_5 + x_6 + x_7 & \\geq & 11 \\\\\n",
    "            x_i & \\geq & 0 ~~~~ \\forall ~i\n",
    "       \\end{array}\n",
    "   \\end{array}\n",
    "$$"
   ]
  },
  {
   "cell_type": "code",
   "execution_count": null,
   "metadata": {},
   "outputs": [],
   "source": []
  },
  {
   "cell_type": "markdown",
   "metadata": {},
   "source": [
    "### Задача 3"
   ]
  },
  {
   "cell_type": "markdown",
   "metadata": {},
   "source": [
    "*Центральна гранична теорема* — теорема теорії ймовірностей про збіжність розподілу суми незалежних однаково розподілених випадкових величин до нормального розподілу. Ця теорема підкреслює особливість нормального розподілу в теорії ймовірностей."
   ]
  },
  {
   "cell_type": "code",
   "execution_count": null,
   "metadata": {},
   "outputs": [],
   "source": [
    "# https://www.kaggle.com/mnavas/mexico-city-and-quito-extra-data/?select=mex_clean.csv"
   ]
  },
  {
   "cell_type": "code",
   "execution_count": 1,
   "metadata": {},
   "outputs": [],
   "source": [
    "import numpy as np\n",
    "from scipy import stats\n",
    "import matplotlib.pyplot as plt\n",
    "import pandas as pd"
   ]
  },
  {
   "cell_type": "code",
   "execution_count": 2,
   "metadata": {},
   "outputs": [
    {
     "data": {
      "text/html": [
       "<div>\n",
       "<style scoped>\n",
       "    .dataframe tbody tr th:only-of-type {\n",
       "        vertical-align: middle;\n",
       "    }\n",
       "\n",
       "    .dataframe tbody tr th {\n",
       "        vertical-align: top;\n",
       "    }\n",
       "\n",
       "    .dataframe thead th {\n",
       "        text-align: right;\n",
       "    }\n",
       "</style>\n",
       "<table border=\"1\" class=\"dataframe\">\n",
       "  <thead>\n",
       "    <tr style=\"text-align: right;\">\n",
       "      <th></th>\n",
       "      <th>id</th>\n",
       "      <th>vendor_id</th>\n",
       "      <th>pickup_datetime</th>\n",
       "      <th>dropoff_datetime</th>\n",
       "      <th>pickup_longitude</th>\n",
       "      <th>pickup_latitude</th>\n",
       "      <th>dropoff_longitude</th>\n",
       "      <th>dropoff_latitude</th>\n",
       "      <th>store_and_fwd_flag</th>\n",
       "      <th>trip_duration</th>\n",
       "      <th>dist_meters</th>\n",
       "      <th>wait_sec</th>\n",
       "    </tr>\n",
       "  </thead>\n",
       "  <tbody>\n",
       "    <tr>\n",
       "      <th>0</th>\n",
       "      <td>1</td>\n",
       "      <td>México DF Taxi de Sitio</td>\n",
       "      <td>2016-09-16 07:14:12</td>\n",
       "      <td>2016-09-18 04:41:40</td>\n",
       "      <td>-99.097369</td>\n",
       "      <td>19.416874</td>\n",
       "      <td>-99.202729</td>\n",
       "      <td>19.430353</td>\n",
       "      <td>N</td>\n",
       "      <td>120449</td>\n",
       "      <td>12373</td>\n",
       "      <td>242</td>\n",
       "    </tr>\n",
       "    <tr>\n",
       "      <th>1</th>\n",
       "      <td>2</td>\n",
       "      <td>México DF Taxi Libre</td>\n",
       "      <td>2016-09-18 06:16:33</td>\n",
       "      <td>2016-09-18 10:11:43</td>\n",
       "      <td>-99.297148</td>\n",
       "      <td>19.322128</td>\n",
       "      <td>-99.289949</td>\n",
       "      <td>19.326538</td>\n",
       "      <td>N</td>\n",
       "      <td>14110</td>\n",
       "      <td>1700</td>\n",
       "      <td>461</td>\n",
       "    </tr>\n",
       "    <tr>\n",
       "      <th>2</th>\n",
       "      <td>3</td>\n",
       "      <td>México DF Taxi Libre</td>\n",
       "      <td>2016-09-18 10:11:50</td>\n",
       "      <td>2016-09-18 10:23:11</td>\n",
       "      <td>-99.289603</td>\n",
       "      <td>19.326263</td>\n",
       "      <td>-99.271874</td>\n",
       "      <td>19.328530</td>\n",
       "      <td>N</td>\n",
       "      <td>681</td>\n",
       "      <td>2848</td>\n",
       "      <td>129</td>\n",
       "    </tr>\n",
       "    <tr>\n",
       "      <th>3</th>\n",
       "      <td>4</td>\n",
       "      <td>México DF Taxi Libre</td>\n",
       "      <td>2016-09-18 10:23:38</td>\n",
       "      <td>2016-09-18 10:30:53</td>\n",
       "      <td>-99.271161</td>\n",
       "      <td>19.328875</td>\n",
       "      <td>-99.279900</td>\n",
       "      <td>19.326256</td>\n",
       "      <td>N</td>\n",
       "      <td>436</td>\n",
       "      <td>1409</td>\n",
       "      <td>106</td>\n",
       "    </tr>\n",
       "    <tr>\n",
       "      <th>4</th>\n",
       "      <td>5</td>\n",
       "      <td>México DF Taxi Libre</td>\n",
       "      <td>2016-09-18 10:44:18</td>\n",
       "      <td>2016-09-18 10:51:40</td>\n",
       "      <td>-99.282761</td>\n",
       "      <td>19.326944</td>\n",
       "      <td>-99.291705</td>\n",
       "      <td>19.322754</td>\n",
       "      <td>N</td>\n",
       "      <td>442</td>\n",
       "      <td>1567</td>\n",
       "      <td>85</td>\n",
       "    </tr>\n",
       "  </tbody>\n",
       "</table>\n",
       "</div>"
      ],
      "text/plain": [
       "   id                vendor_id      pickup_datetime     dropoff_datetime  \\\n",
       "0   1  México DF Taxi de Sitio  2016-09-16 07:14:12  2016-09-18 04:41:40   \n",
       "1   2     México DF Taxi Libre  2016-09-18 06:16:33  2016-09-18 10:11:43   \n",
       "2   3     México DF Taxi Libre  2016-09-18 10:11:50  2016-09-18 10:23:11   \n",
       "3   4     México DF Taxi Libre  2016-09-18 10:23:38  2016-09-18 10:30:53   \n",
       "4   5     México DF Taxi Libre  2016-09-18 10:44:18  2016-09-18 10:51:40   \n",
       "\n",
       "   pickup_longitude  pickup_latitude  dropoff_longitude  dropoff_latitude  \\\n",
       "0        -99.097369        19.416874         -99.202729         19.430353   \n",
       "1        -99.297148        19.322128         -99.289949         19.326538   \n",
       "2        -99.289603        19.326263         -99.271874         19.328530   \n",
       "3        -99.271161        19.328875         -99.279900         19.326256   \n",
       "4        -99.282761        19.326944         -99.291705         19.322754   \n",
       "\n",
       "  store_and_fwd_flag  trip_duration  dist_meters  wait_sec  \n",
       "0                  N         120449        12373       242  \n",
       "1                  N          14110         1700       461  \n",
       "2                  N            681         2848       129  \n",
       "3                  N            436         1409       106  \n",
       "4                  N            442         1567        85  "
      ]
     },
     "execution_count": 2,
     "metadata": {},
     "output_type": "execute_result"
    }
   ],
   "source": [
    "taxi_mex = pd.read_csv('mex_clean.csv')\n",
    "taxi_mex.head()"
   ]
  },
  {
   "cell_type": "code",
   "execution_count": 3,
   "metadata": {},
   "outputs": [
    {
     "data": {
      "text/plain": [
       "(12694, 12)"
      ]
     },
     "execution_count": 3,
     "metadata": {},
     "output_type": "execute_result"
    }
   ],
   "source": [
    "taxi_mex.shape"
   ]
  },
  {
   "cell_type": "code",
   "execution_count": 4,
   "metadata": {},
   "outputs": [
    {
     "data": {
      "text/plain": [
       "(array([9.420e+03, 2.108e+03, 7.020e+02, 2.480e+02, 1.000e+02, 3.500e+01,\n",
       "        2.300e+01, 2.400e+01, 1.300e+01, 8.000e+00, 4.000e+00, 2.000e+00,\n",
       "        1.000e+00, 1.000e+00, 0.000e+00, 0.000e+00, 1.000e+00, 0.000e+00,\n",
       "        1.000e+00, 0.000e+00, 0.000e+00, 0.000e+00, 0.000e+00, 0.000e+00,\n",
       "        0.000e+00, 0.000e+00, 0.000e+00, 0.000e+00, 1.000e+00, 0.000e+00,\n",
       "        0.000e+00, 0.000e+00, 0.000e+00, 0.000e+00, 0.000e+00, 0.000e+00,\n",
       "        0.000e+00, 1.000e+00, 0.000e+00, 0.000e+00, 0.000e+00, 0.000e+00,\n",
       "        0.000e+00, 0.000e+00, 0.000e+00, 0.000e+00, 0.000e+00, 0.000e+00,\n",
       "        0.000e+00, 0.000e+00, 0.000e+00, 0.000e+00, 0.000e+00, 0.000e+00,\n",
       "        0.000e+00, 0.000e+00, 0.000e+00, 0.000e+00, 0.000e+00, 0.000e+00,\n",
       "        0.000e+00, 0.000e+00, 0.000e+00, 0.000e+00, 0.000e+00, 0.000e+00,\n",
       "        0.000e+00, 0.000e+00, 0.000e+00, 0.000e+00, 0.000e+00, 0.000e+00,\n",
       "        0.000e+00, 0.000e+00, 0.000e+00, 0.000e+00, 0.000e+00, 0.000e+00,\n",
       "        0.000e+00, 0.000e+00, 0.000e+00, 0.000e+00, 0.000e+00, 0.000e+00,\n",
       "        0.000e+00, 0.000e+00, 0.000e+00, 0.000e+00, 0.000e+00, 0.000e+00,\n",
       "        0.000e+00, 0.000e+00, 0.000e+00, 0.000e+00, 0.000e+00, 0.000e+00,\n",
       "        0.000e+00, 0.000e+00, 0.000e+00, 1.000e+00]),\n",
       " array([2.1000000e+01, 8.0461600e+03, 1.6071320e+04, 2.4096480e+04,\n",
       "        3.2121640e+04, 4.0146800e+04, 4.8171960e+04, 5.6197120e+04,\n",
       "        6.4222280e+04, 7.2247440e+04, 8.0272600e+04, 8.8297760e+04,\n",
       "        9.6322920e+04, 1.0434808e+05, 1.1237324e+05, 1.2039840e+05,\n",
       "        1.2842356e+05, 1.3644872e+05, 1.4447388e+05, 1.5249904e+05,\n",
       "        1.6052420e+05, 1.6854936e+05, 1.7657452e+05, 1.8459968e+05,\n",
       "        1.9262484e+05, 2.0065000e+05, 2.0867516e+05, 2.1670032e+05,\n",
       "        2.2472548e+05, 2.3275064e+05, 2.4077580e+05, 2.4880096e+05,\n",
       "        2.5682612e+05, 2.6485128e+05, 2.7287644e+05, 2.8090160e+05,\n",
       "        2.8892676e+05, 2.9695192e+05, 3.0497708e+05, 3.1300224e+05,\n",
       "        3.2102740e+05, 3.2905256e+05, 3.3707772e+05, 3.4510288e+05,\n",
       "        3.5312804e+05, 3.6115320e+05, 3.6917836e+05, 3.7720352e+05,\n",
       "        3.8522868e+05, 3.9325384e+05, 4.0127900e+05, 4.0930416e+05,\n",
       "        4.1732932e+05, 4.2535448e+05, 4.3337964e+05, 4.4140480e+05,\n",
       "        4.4942996e+05, 4.5745512e+05, 4.6548028e+05, 4.7350544e+05,\n",
       "        4.8153060e+05, 4.8955576e+05, 4.9758092e+05, 5.0560608e+05,\n",
       "        5.1363124e+05, 5.2165640e+05, 5.2968156e+05, 5.3770672e+05,\n",
       "        5.4573188e+05, 5.5375704e+05, 5.6178220e+05, 5.6980736e+05,\n",
       "        5.7783252e+05, 5.8585768e+05, 5.9388284e+05, 6.0190800e+05,\n",
       "        6.0993316e+05, 6.1795832e+05, 6.2598348e+05, 6.3400864e+05,\n",
       "        6.4203380e+05, 6.5005896e+05, 6.5808412e+05, 6.6610928e+05,\n",
       "        6.7413444e+05, 6.8215960e+05, 6.9018476e+05, 6.9820992e+05,\n",
       "        7.0623508e+05, 7.1426024e+05, 7.2228540e+05, 7.3031056e+05,\n",
       "        7.3833572e+05, 7.4636088e+05, 7.5438604e+05, 7.6241120e+05,\n",
       "        7.7043636e+05, 7.7846152e+05, 7.8648668e+05, 7.9451184e+05,\n",
       "        8.0253700e+05]),\n",
       " <a list of 100 Patch objects>)"
      ]
     },
     "execution_count": 4,
     "metadata": {},
     "output_type": "execute_result"
    },
    {
     "data": {
      "image/png": "[encoded data removed]",
      "text/plain": [
       "<Figure size 432x288 with 1 Axes>"
      ]
     },
     "metadata": {
      "needs_background": "light"
     },
     "output_type": "display_data"
    }
   ],
   "source": [
    "plt.hist(taxi_mex['dist_meters'], bins=100)"
   ]
  },
  {
   "cell_type": "code",
   "execution_count": 5,
   "metadata": {},
   "outputs": [
    {
     "data": {
      "text/plain": [
       "(12694, 12)"
      ]
     },
     "execution_count": 5,
     "metadata": {},
     "output_type": "execute_result"
    }
   ],
   "source": [
    "taxi_mex.shape"
   ]
  },
  {
   "cell_type": "code",
   "execution_count": 4,
   "metadata": {},
   "outputs": [],
   "source": [
    "def generate_distribution_sample(data, sample_size, dist_size):\n",
    "    sample_means = []\n",
    "    for i in range(dist_size):\n",
    "        sample = np.random.choice(a = data, size = sample_size)\n",
    "        sample_means.append(np.mean(sample))\n",
    "    return sample_means\n"
   ]
  },
  {
   "cell_type": "code",
   "execution_count": 12,
   "metadata": {},
   "outputs": [
    {
     "ename": "KeyboardInterrupt",
     "evalue": "",
     "output_type": "error",
     "traceback": [
      "\u001b[1;31m---------------------------------------------------------------------------\u001b[0m",
      "\u001b[1;31mKeyboardInterrupt\u001b[0m                         Traceback (most recent call last)",
      "\u001b[1;32m<ipython-input-12-e8d6db32f077>\u001b[0m in \u001b[0;36m<module>\u001b[1;34m\u001b[0m\n\u001b[0;32m      1\u001b[0m \u001b[0msample_size\u001b[0m \u001b[1;33m=\u001b[0m \u001b[1;36m1000000\u001b[0m\u001b[1;33m\u001b[0m\u001b[1;33m\u001b[0m\u001b[0m\n\u001b[0;32m      2\u001b[0m \u001b[0mdist_size\u001b[0m \u001b[1;33m=\u001b[0m \u001b[1;36m50000\u001b[0m\u001b[1;33m\u001b[0m\u001b[1;33m\u001b[0m\u001b[0m\n\u001b[1;32m----> 3\u001b[1;33m \u001b[0msample_means\u001b[0m \u001b[1;33m=\u001b[0m \u001b[0mgenerate_distribution_sample\u001b[0m\u001b[1;33m(\u001b[0m\u001b[0mtaxi_mex\u001b[0m\u001b[1;33m[\u001b[0m\u001b[1;34m'dist_meters'\u001b[0m\u001b[1;33m]\u001b[0m\u001b[1;33m/\u001b[0m\u001b[1;36m1000\u001b[0m\u001b[1;33m,\u001b[0m \u001b[0msample_size\u001b[0m\u001b[1;33m,\u001b[0m \u001b[0mdist_size\u001b[0m\u001b[1;33m)\u001b[0m\u001b[1;33m\u001b[0m\u001b[1;33m\u001b[0m\u001b[0m\n\u001b[0m",
      "\u001b[1;32m<ipython-input-4-f27a71e3c328>\u001b[0m in \u001b[0;36mgenerate_distribution_sample\u001b[1;34m(data, sample_size, dist_size)\u001b[0m\n\u001b[0;32m      2\u001b[0m     \u001b[0msample_means\u001b[0m \u001b[1;33m=\u001b[0m \u001b[1;33m[\u001b[0m\u001b[1;33m]\u001b[0m\u001b[1;33m\u001b[0m\u001b[1;33m\u001b[0m\u001b[0m\n\u001b[0;32m      3\u001b[0m     \u001b[1;32mfor\u001b[0m \u001b[0mi\u001b[0m \u001b[1;32min\u001b[0m \u001b[0mrange\u001b[0m\u001b[1;33m(\u001b[0m\u001b[0mdist_size\u001b[0m\u001b[1;33m)\u001b[0m\u001b[1;33m:\u001b[0m\u001b[1;33m\u001b[0m\u001b[1;33m\u001b[0m\u001b[0m\n\u001b[1;32m----> 4\u001b[1;33m         \u001b[0msample\u001b[0m \u001b[1;33m=\u001b[0m \u001b[0mnp\u001b[0m\u001b[1;33m.\u001b[0m\u001b[0mrandom\u001b[0m\u001b[1;33m.\u001b[0m\u001b[0mchoice\u001b[0m\u001b[1;33m(\u001b[0m\u001b[0ma\u001b[0m \u001b[1;33m=\u001b[0m \u001b[0mdata\u001b[0m\u001b[1;33m,\u001b[0m \u001b[0msize\u001b[0m \u001b[1;33m=\u001b[0m \u001b[0msample_size\u001b[0m\u001b[1;33m)\u001b[0m\u001b[1;33m\u001b[0m\u001b[1;33m\u001b[0m\u001b[0m\n\u001b[0m\u001b[0;32m      5\u001b[0m         \u001b[0msample_means\u001b[0m\u001b[1;33m.\u001b[0m\u001b[0mappend\u001b[0m\u001b[1;33m(\u001b[0m\u001b[0mnp\u001b[0m\u001b[1;33m.\u001b[0m\u001b[0mmean\u001b[0m\u001b[1;33m(\u001b[0m\u001b[0msample\u001b[0m\u001b[1;33m)\u001b[0m\u001b[1;33m)\u001b[0m\u001b[1;33m\u001b[0m\u001b[1;33m\u001b[0m\u001b[0m\n\u001b[0;32m      6\u001b[0m     \u001b[1;32mreturn\u001b[0m \u001b[0msample_means\u001b[0m\u001b[1;33m\u001b[0m\u001b[1;33m\u001b[0m\u001b[0m\n",
      "\u001b[1;31mKeyboardInterrupt\u001b[0m: "
     ]
    }
   ],
   "source": [
    "sample_size = 1000000\n",
    "dist_size = 50000\n",
    "sample_means = generate_distribution_sample(taxi_mex['dist_meters']/1000, sample_size, dist_size)\n"
   ]
  },
  {
   "cell_type": "code",
   "execution_count": null,
   "metadata": {},
   "outputs": [],
   "source": [
    "plt.hist(sample_means, bins=100)\n",
    "plt.xlabel('distance in km')"
   ]
  },
  {
   "cell_type": "code",
   "execution_count": 11,
   "metadata": {},
   "outputs": [
    {
     "name": "stdout",
     "output_type": "stream",
     "text": [
      "conf interval (6.459584370000001, 6.906920025)\n"
     ]
    }
   ],
   "source": [
    "np.sort(sample_means)\n",
    "lb = np.percentile(sample_means, 2.5)\n",
    "ub = np.percentile(sample_means, 97.5)\n",
    "print(\"conf interval\", (lb, ub))"
   ]
  },
  {
   "cell_type": "markdown",
   "metadata": {},
   "source": [
    "#### Перевірка на нормальність"
   ]
  },
  {
   "cell_type": "code",
   "execution_count": 36,
   "metadata": {},
   "outputs": [],
   "source": [
    "from numpy.random import seed, normal\n",
    "\n",
    "seed(1)\n",
    "\n",
    "mean = 50\n",
    "stev = 10\n",
    "\n",
    "\n",
    "results1 = normal(mean, stev, 1000)"
   ]
  },
  {
   "cell_type": "code",
   "execution_count": 35,
   "metadata": {},
   "outputs": [],
   "source": [
    "mean = 60\n",
    "stev = 10\n",
    "\n",
    "results2 = normal(mean, stev, 1000)"
   ]
  },
  {
   "cell_type": "code",
   "execution_count": 15,
   "metadata": {},
   "outputs": [],
   "source": [
    "from pandas import DataFrame\n",
    "results = DataFrame()\n",
    "results['A'] = results1\n",
    "results['B'] = results2"
   ]
  },
  {
   "cell_type": "code",
   "execution_count": 16,
   "metadata": {},
   "outputs": [
    {
     "name": "stdout",
     "output_type": "stream",
     "text": [
      "                 A            B\n",
      "count  1000.000000  1000.000000\n",
      "mean     50.388125    60.273254\n",
      "std       9.814950    10.305528\n",
      "min      19.462356    28.466425\n",
      "25%      43.998396    53.529044\n",
      "50%      50.412926    60.313135\n",
      "75%      57.039989    67.298686\n",
      "max      89.586027    94.326634\n"
     ]
    }
   ],
   "source": [
    "print(results.describe())"
   ]
  },
  {
   "cell_type": "code",
   "execution_count": 17,
   "metadata": {},
   "outputs": [],
   "source": [
    "from matplotlib import pyplot"
   ]
  },
  {
   "cell_type": "code",
   "execution_count": 18,
   "metadata": {},
   "outputs": [
    {
     "data": {
      "image/png": "[encoded data removed]",
      "text/plain": [
       "<Figure size 432x288 with 1 Axes>"
      ]
     },
     "metadata": {
      "needs_background": "light"
     },
     "output_type": "display_data"
    }
   ],
   "source": [
    "results.boxplot()\n",
    "pyplot.show()"
   ]
  },
  {
   "cell_type": "code",
   "execution_count": 21,
   "metadata": {},
   "outputs": [
    {
     "data": {
      "text/plain": [
       "array([[<matplotlib.axes._subplots.AxesSubplot object at 0x00000231A2D68188>,\n",
       "        <matplotlib.axes._subplots.AxesSubplot object at 0x00000231A2890088>]],\n",
       "      dtype=object)"
      ]
     },
     "execution_count": 21,
     "metadata": {},
     "output_type": "execute_result"
    },
    {
     "data": {
      "image/png": "[encoded data removed]",
      "text/plain": [
       "<Figure size 432x288 with 2 Axes>"
      ]
     },
     "metadata": {
      "needs_background": "light"
     },
     "output_type": "display_data"
    }
   ],
   "source": [
    "results.hist(bins=50)"
   ]
  },
  {
   "cell_type": "markdown",
   "metadata": {},
   "source": [
    "Normaltest повертає 2-кортеж статистики хі-квадрат і пов'язане з ним значення p. Враховуючи нульову гіпотезу про те, що x надходить із нормального розподілу, p-значення представляє ймовірність.\n",
    "\n",
    "Якщо p-val дуже малий, це означає, що малоймовірно, щоб дані надходили з нормального розподілу"
   ]
  },
  {
   "cell_type": "code",
   "execution_count": 23,
   "metadata": {},
   "outputs": [
    {
     "name": "stdout",
     "output_type": "stream",
     "text": [
      "2.9901307811630033 0.22423394146329606\n",
      "Похоже, що розподіл нормальний\n"
     ]
    }
   ],
   "source": [
    "from scipy.stats import normaltest\n",
    "\n",
    "value, p = normaltest(results['A'])\n",
    "print(value, p)\n",
    "if p >= 0.05:\n",
    "    print('Похоже, що розподіл нормальний')\n",
    "else:\n",
    "    print('Результат навряд чи нормальний')"
   ]
  },
  {
   "cell_type": "code",
   "execution_count": 45,
   "metadata": {},
   "outputs": [
    {
     "name": "stdout",
     "output_type": "stream",
     "text": [
      "Результат навряд чи нормальний\n"
     ]
    }
   ],
   "source": [
    "value, p = normaltest(sample_means)\n",
    "if p >= 0.05:\n",
    "    print('Похоже, що розподіл нормальний')\n",
    "else:\n",
    "    print('Результат навряд чи нормальний')"
   ]
  },
  {
   "cell_type": "markdown",
   "metadata": {},
   "source": [
    "Нульова гіпотеза тесту ($H_0$) або очікування за замовчуванням полягає в тому, що статистика описує нормальний розподіл.\n",
    "\n",
    "Ми не зможемо відкинути цю гіпотезу, якщо значення р більше 0,05. Ми відкидаємо цю гіпотезу, якщо p-значення < = 0,05. В цьому випадку ми вважаємо, що розподіл не є нормальним з імовірністю 95%"
   ]
  },
  {
   "cell_type": "markdown",
   "metadata": {},
   "source": [
    "#### Перевіряємо, чи є різниця між середніми статистично важлива"
   ]
  },
  {
   "cell_type": "code",
   "execution_count": 26,
   "metadata": {},
   "outputs": [
    {
     "name": "stdout",
     "output_type": "stream",
     "text": [
      "-21.96493964531936 5.803252034443177e-96\n",
      "Вибірки з різних розподілів\n"
     ]
    }
   ],
   "source": [
    "from scipy.stats import ttest_ind\n",
    "value, pvalue = ttest_ind(results['A'], results['B'], equal_var=True)\n",
    "print(value, pvalue)\n",
    "if pvalue > 0.05:\n",
    "    print('Вибірки з одинакового розподілу')\n",
    "else:\n",
    "    print('Вибірки з різних розподілів')"
   ]
  },
  {
   "cell_type": "markdown",
   "metadata": {},
   "source": [
    "### Задача 3"
   ]
  },
  {
   "cell_type": "markdown",
   "metadata": {},
   "source": [
    "#### Вбудовані метод SciPy"
   ]
  },
  {
   "cell_type": "markdown",
   "metadata": {},
   "source": [
    "- *ttest_ind* :\n",
    "    \n",
    "    t-критерій для середніх значень двох незалежних зразків балів. Це двосторонній тест на нульову гіпотезу про те, що 2 незалежні вибірки мають однакові середні (очікувані) значення. Цей тест передбачає, що популяції мають однакові дисперсії за замовчуванням.\n",
    "    \n",
    "\n",
    "- *ttest_rel* : \n",
    "    \n",
    "    Це двосторонній тест на нульову гіпотезу про те, що 2 пов’язані або повторні зразки мають однакові середні (очікувані) значення.\n",
    "    \n",
    "    \n",
    "- *ttest_1samp* - \n",
    "\n",
    "    t-тест для середнього значення ОДНОЇ групи."
   ]
  },
  {
   "cell_type": "markdown",
   "metadata": {},
   "source": [
    "Припустимо, що ми хочемо перевірити час очікування таксі. Ми припускаємо, що середній\n",
    "час очікування - це десять хвилин. Для цього в stats вже реалізовані всі методи, і для перевірки одновиборочного критерію ми використовуємо метод ttest_1samp. Для цього нам необхідно\n",
    "передати нашу вибірку і також передати те значення середнього, яке ми очікуємо побачити.\n",
    "\n",
    "Результатом роботи цього методу буде певний клас, який повертає два параметри:\n",
    "statistic - це, власне кажучи, t-статистика, і розрахований pvalue."
   ]
  },
  {
   "cell_type": "code",
   "execution_count": 27,
   "metadata": {},
   "outputs": [
    {
     "name": "stdout",
     "output_type": "stream",
     "text": [
      "Не подібні\n"
     ]
    }
   ],
   "source": [
    "sample = taxi_mex['wait_sec']/60\n",
    "value, p = stats.ttest_1samp(sample, 10)\n",
    "\n",
    "if p > 0.05:\n",
    "    print('Подібні середні')\n",
    "else:\n",
    "    print('Не подібні')"
   ]
  },
  {
   "cell_type": "code",
   "execution_count": 28,
   "metadata": {},
   "outputs": [
    {
     "name": "stdout",
     "output_type": "stream",
     "text": [
      "Подібні середні\n"
     ]
    }
   ],
   "source": [
    "taxi_mex['pickup_datetime'] = pd.to_datetime(taxi_mex.pickup_datetime)\n",
    "taxi_mex['month'] = taxi_mex['pickup_datetime'].dt.month\n",
    "\n",
    "control = taxi_mex[taxi_mex.month == 11]['trip_duration'].sample(n=1000)\n",
    "treatment = taxi_mex[taxi_mex.month == 12]['trip_duration'].sample(n=1000)\n",
    "\n",
    "value, p = stats.ttest_rel(control, treatment)\n",
    "\n",
    "\n",
    "if p > 0.05:\n",
    "    print('Подібні середні')\n",
    "else:\n",
    "    print('Не подібні')"
   ]
  }
 ],
 "metadata": {
  "kernelspec": {
   "display_name": "Python 3",
   "language": "python",
   "name": "python3"
  },
  "language_info": {
   "codemirror_mode": {
    "name": "ipython",
    "version": 3
   },
   "file_extension": ".py",
   "mimetype": "text/x-python",
   "name": "python",
   "nbconvert_exporter": "python",
   "pygments_lexer": "ipython3",
   "version": "3.7.6"
  }
 },
 "nbformat": 4,
 "nbformat_minor": 4
}
