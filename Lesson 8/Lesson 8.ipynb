{
 "cells": [
  {
   "cell_type": "code",
   "execution_count": 11,
   "metadata": {},
   "outputs": [],
   "source": [
    "import requests\n",
    "from bs4 import BeautifulSoup\n",
    "\n",
    "\n",
    "res = requests.get('https://www.i.ua/')\n",
    "\n",
    "soup = BeautifulSoup(res.text, 'lxml')"
   ]
  },
  {
   "cell_type": "code",
   "execution_count": 12,
   "metadata": {},
   "outputs": [
    {
     "name": "stdout",
     "output_type": "stream",
     "text": [
      "19:34 https://news.i.ua/click/7830218/812567310/2 Группа киевлян под видом иностранного обмена переправляла нелегалов в страны ЕС\n",
      "19:33 https://news.i.ua/click/7830214/842739770/2 Устрашающие и мистические: 10 способов отметить Хэллоуин в Киеве\n",
      "19:32 https://news.i.ua/click/7830217/1961621420/2 Телескоп Hubble к празднику Хэллоуина показал снимок умирающей звезды\n",
      "19:31 https://news.i.ua/click/7830205/1382926354/2 В одной из громад Днепропетровщины демонтируют незаконные ограждения\n",
      "19:31 https://news.i.ua/click/7830206/1131378462/2 Хакеру, создавшему фейковую «Дию», предложили стажировку в Минцифры\n",
      "19:30 https://news.i.ua/click/7830213/2046309541/2 У Києві сталась пожежа в ресторані: Інформації про постраждалих поки немає\n",
      "19:27 https://news.i.ua/click/7830201/237233962/2 Приложение Apple Music исправили карту с Крымом\n",
      "19:23 https://news.i.ua/click/7830192/479425903/2 Назван напиток, который втрое повышает риск инсульта\n",
      "19:22 https://news.i.ua/click/7830202/1539709957/2 Розробнику фейкової \"Дії\" запропонували стажування в Мінцифри\n",
      "19:22 https://news.i.ua/click/7830189/1476803188/2 В Киеве проверили, как работает Житний рынок\n",
      "19:22 https://news.i.ua/click/7830211/794711343/2 Почему на ужин нельзя есть свежие овощи и фрукты\n",
      "19:17 https://news.i.ua/click/7830188/2145695113/2 Журнал TIME посвятил новую обложку предстоящему климатическому саммиту в Глазго\n",
      "19:15 https://news.i.ua/click/7830177/1142437424/2 В Днепре возложили цветы в честь 77 годовщины освобождения Украины от нацистов\n",
      "19:13 https://news.i.ua/click/7830195/1726750705/2 Вратарь «Львова»: в серии пенальти решил действовать по удару соперника\n",
      "19:12 https://news.i.ua/click/7830174/1358676845/2 Растущий спрос на 5G-аппаратуру вывел Nokia в лидеры рынка\n"
     ]
    }
   ],
   "source": [
    " # https://www.i.ua/  скріпт для отримання новин\n",
    "for n in soup.find('ul', id='news_cont').find_all('li'):\n",
    "    time = n.find('span').text\n",
    "    href = n.find('a').get('href')\n",
    "    info = n.find('a').text\n",
    "    \n",
    "    print(time, href, info)"
   ]
  },
  {
   "cell_type": "code",
   "execution_count": 23,
   "metadata": {},
   "outputs": [],
   "source": [
    "# отримати список випадкових анкет та зібрати з них всю детальну інформацію\n",
    "link = 'https://love.i.ua/'\n",
    "\n",
    "DB = {}\n",
    "\n",
    "res = requests.get(link)\n",
    "\n",
    "soup = BeautifulSoup(res.text, 'lxml')"
   ]
  },
  {
   "cell_type": "code",
   "execution_count": 37,
   "metadata": {},
   "outputs": [
    {
     "data": {
      "text/plain": [
       "{'/user/2082529/': {'name': 'Юрий'},\n",
       " '/user/3363036/': {'name': 'Бюро Строй Услуг'},\n",
       " '/user/727686/': {'name': 'Olga'},\n",
       " '/user/754836/': {'name': \"Мак's\"},\n",
       " '/user/1540849/': {'name': 'Владимир'}}"
      ]
     },
     "execution_count": 37,
     "metadata": {},
     "output_type": "execute_result"
    }
   ],
   "source": [
    "for person in soup.find_all('ul', class_='list_cols_5 clear')[1].find_all('li'):\n",
    "    href = person.find('a').get('href')\n",
    "    name = person.find('dd').find('a').text\n",
    "    DB[href] = {}\n",
    "    DB[href]['name'] = name\n",
    "DB    "
   ]
  },
  {
   "cell_type": "code",
   "execution_count": 75,
   "metadata": {},
   "outputs": [],
   "source": [
    "from datetime import datetime\n",
    "for k,v in DB.items():\n",
    "    res = requests.get(link.rstrip('/')+k)\n",
    "    soup = BeautifulSoup(res.text, 'lxml')\n",
    "    v['des'] = soup.find('div', class_=\"profile_info\").find('div', id=\"name_block\").text\n",
    "    v['search'] = soup.find('div', class_=\"profile_info\").find('div', id=\"look_block\").text\n",
    "    age = soup.find('div', class_=\"profile_info\").find('ul', class_=\"list_cols_2 clear\").li.b.text.split()[0]\n",
    "    v['age'] = int(age)\n",
    "    \n",
    "    date_add = soup.find('div', class_=\"profile_info\").find('ul', class_=\"list_cols_2 clear\").span.text[-10:]\n",
    "    v['date_add'] = datetime.strptime(date_add, '%d.%m.%Y')\n",
    "    \n",
    "    photo = soup.find('div', class_=\"profile_photo\").img.get('src')\n",
    "    \n",
    "    res = requests.get(photo)\n",
    "    \n",
    "    with open('photo/'+v['name']+'.jpeg', 'wb') as f:\n",
    "        f.write(res.content)\n",
    "    \n",
    "    "
   ]
  },
  {
   "cell_type": "code",
   "execution_count": 64,
   "metadata": {},
   "outputs": [
    {
     "name": "stdout",
     "output_type": "stream",
     "text": [
      "{'/user/1540849/': {'age': 36,\n",
      "                    'date_add': datetime.datetime(2008, 11, 22, 0, 0),\n",
      "                    'des': 'Умный, добрый',\n",
      "                    'name': 'Владимир',\n",
      "                    'search': 'Ищу девушку 21—35 летдевушку без вредных '\n",
      "                              'привычек'},\n",
      " '/user/2082529/': {'age': 44,\n",
      "                    'date_add': datetime.datetime(2016, 3, 14, 0, 0),\n",
      "                    'des': 'Стройный образованный, ищу такую же)',\n",
      "                    'name': 'Юрий',\n",
      "                    'search': 'Ищу девушку 28—32 летСтройную девушку до 32, '\n",
      "                              'возраст и наличие детей имеет значение.'},\n",
      " '/user/3363036/': {'age': 41,\n",
      "                    'date_add': datetime.datetime(2012, 12, 8, 0, 0),\n",
      "                    'des': 'Обычная хотя интересная',\n",
      "                    'name': 'Бюро Строй Услуг',\n",
      "                    'search': 'Ищу парня 50—60 летНе пьющего .симпотичного.не '\n",
      "                              'озабоченого'},\n",
      " '/user/727686/': {'age': 42,\n",
      "                   'date_add': datetime.datetime(2013, 12, 2, 0, 0),\n",
      "                   'des': 'я хорошая, но я трудоголик)))',\n",
      "                   'name': 'Olga',\n",
      "                   'search': 'Ищу парня 34—41 летищу?)) ну, я не ищу, я готова '\n",
      "                             'встретить хорошего человека, с которым '\n",
      "                             'интересно!'},\n",
      " '/user/754836/': {'age': 44,\n",
      "                   'date_add': datetime.datetime(2020, 12, 13, 0, 0),\n",
      "                   'des': 'Одинокий подбитый голубь, нуждающийся в заботе, '\n",
      "                          'ласке и уходе. Вымирающий вид, занесённый в '\n",
      "                          '\"красную книгу\".',\n",
      "                   'name': \"Мак's\",\n",
      "                   'search': 'Ищу девушку 30—60 летИщу ту, с кем: встречать '\n",
      "                             'рассветы, Новый год, засыпать вместе, вместе '\n",
      "                             'встретить старость и прожить вместе бок-о-бок, '\n",
      "                             'держась за руки. Если ты готова к такому, '\n",
      "                             'обаятельно напиши мне! Может, ты, именно, '\n",
      "                             'та?!...'}}\n"
     ]
    }
   ],
   "source": [
    "from pprint import pprint\n",
    "\n",
    "pprint(DB)"
   ]
  },
  {
   "cell_type": "code",
   "execution_count": 87,
   "metadata": {},
   "outputs": [
    {
     "name": "stdout",
     "output_type": "stream",
     "text": [
      "Кількість товарів в прайсі = 426\n",
      "Кількість товарів в наявності = 353\n",
      "Найдорожча позиція Масло Liqui Moly TOP TEC 4600 5W-30 5л з ціною = 1623.0\n",
      "Сереалізація пройшла успішно\n"
     ]
    }
   ],
   "source": [
    "# обробка текстового файла\n",
    "from pprint import pprint\n",
    "FILE = 'spare_parts.txt'\n",
    "\n",
    "def get_data(path_to_file):\n",
    "    \"\"\"Відкриваємо файл та формуємо із нього dict\"\"\"\n",
    "    \n",
    "    db = {}\n",
    "    for row in open(path_to_file, encoding='UTF-8'):\n",
    "        sku, name, inStock, price = row.split('|')\n",
    "        price = float(price.rstrip(' грн\\n'))\n",
    "        db[sku] = [name, inStock, price]\n",
    "        \n",
    "    return db\n",
    "        \n",
    "def qty_part_in_price(db):\n",
    "    \"\"\"Виводить на екран к-сть товарів в прайсі\"\"\"\n",
    "    \n",
    "    qty = len(db)\n",
    "    print(f'Кількість товарів в прайсі = {qty}')\n",
    "\n",
    "def qty_part_in_stock(db):\n",
    "    \"\"\"Виводить на екран к-сть товарів в прайсі в наявності\"\"\"\n",
    "#     qty = 0\n",
    "#     for sku,v in db.items():\n",
    "#         if v[1] == 'В наличии':\n",
    "#             qty += 1\n",
    "    \n",
    "    qty = len(list(filter(lambda sku: db[sku][1] == 'В наличии', db)))\n",
    "    \n",
    "    print(f'Кількість товарів в наявності = {qty}')\n",
    "            \n",
    "\n",
    "def max_part(db):\n",
    "    \"\"\"Ціна та назва найдорожчої товарної позиції\"\"\"\n",
    "    max_price = -1\n",
    "    name = None\n",
    "    \n",
    "    for sku,v in db.items():\n",
    "        if v[2] > max_price:\n",
    "            max_price = v[2]\n",
    "            name = v[0]\n",
    "    print(f'Найдорожча позиція {name} з ціною = {max_price}')\n",
    "    \n",
    "\n",
    "def myPickle(db):\n",
    "    \"\"\"Сереалізація даних\"\"\"\n",
    "    \n",
    "    import pickle\n",
    "    \n",
    "    with open('db.pickle', 'wb') as f:\n",
    "        pickle.dump(db, f)\n",
    "    \n",
    "    print('Сереалізація пройшла успішно')\n",
    "\n",
    "    \n",
    "def main():\n",
    "    db = get_data(FILE)\n",
    "    \n",
    "    qty_part_in_price(db)\n",
    "    qty_part_in_stock(db)\n",
    "    max_part(db)\n",
    "    \n",
    "    myPickle(db)\n",
    "    \n",
    "\n",
    "\n",
    "if __name__ == '__main__':\n",
    "    main()"
   ]
  },
  {
   "cell_type": "code",
   "execution_count": null,
   "metadata": {},
   "outputs": [],
   "source": []
  }
 ],
 "metadata": {
  "kernelspec": {
   "display_name": "Python 3",
   "language": "python",
   "name": "python3"
  },
  "language_info": {
   "codemirror_mode": {
    "name": "ipython",
    "version": 3
   },
   "file_extension": ".py",
   "mimetype": "text/x-python",
   "name": "python",
   "nbconvert_exporter": "python",
   "pygments_lexer": "ipython3",
   "version": "3.7.6"
  }
 },
 "nbformat": 4,
 "nbformat_minor": 4
}
