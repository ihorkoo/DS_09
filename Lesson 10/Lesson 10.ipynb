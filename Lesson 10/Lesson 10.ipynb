{
 "cells": [
  {
   "cell_type": "code",
   "execution_count": 6,
   "metadata": {},
   "outputs": [],
   "source": [
    "import sqlite3\n",
    "# product_id INTEGER PRIMARY KEY AUTOINCREMENT, використовуємо коли потрібно явно вказати первинний ключ\n",
    "\n",
    "\n",
    "sql_text = \"\"\"CREATE TABLE IF NOT EXISTS products ( \n",
    "                id INTEGER PRIMARY KEY AUTOINCREMENT, \n",
    "                sku  TEXT NOT NULL,\n",
    "                product_name  TEXT NOT NULL,\n",
    "                unit TEXT NOT NULL\n",
    "                );\n",
    "                        \n",
    "            CREATE TABLE IF NOT EXISTS stock (\n",
    "                id INTEGER PRIMARY KEY AUTOINCREMENT,\n",
    "                product_id INTEGER NOT NULL,\n",
    "                operation_date DATETIME NOT NULL,\n",
    "                supplier TEXT NULL,\n",
    "                qty FLOAT NOTT NULL,\n",
    "                \n",
    "                FOREIGN KEY (product_id)\n",
    "                    REFERENCES products (id)\n",
    "            );\n",
    "            \n",
    "            CREATE TABLE IF NOT EXISTS prices (\n",
    "                id INTEGER PRIMARY KEY AUTOINCREMENT,\n",
    "                product_id INTEGER NOT NULL,\n",
    "                price_date_start DATETIME NOT NULL,\n",
    "                price FLOAT NOT NULL,\n",
    "                \n",
    "                FOREIGN KEY (product_id)\n",
    "                    REFERENCES products (id)\n",
    "            )\n",
    "\n",
    "\"\"\"\n",
    "\n",
    "\n",
    "conn = sqlite3.connect('store.db')\n",
    "curs = conn.cursor()\n",
    "\n",
    "curs.executescript(sql_text)\n",
    "\n",
    "conn.close()\n"
   ]
  },
  {
   "cell_type": "code",
   "execution_count": 9,
   "metadata": {},
   "outputs": [],
   "source": [
    "import sqlite3\n",
    "\n",
    "#Вставка даних\n",
    "\n",
    "\n",
    "sql_text = \"\"\"INSERT INTO products (sku, product_name, unit) VALUES ('re50672', 'product_2', 'шт')\"\"\"\n",
    "\n",
    "\n",
    "conn = sqlite3.connect('store.db')\n",
    "curs = conn.cursor()\n",
    "\n",
    "curs.execute(sql_text)\n",
    "conn.commit()\n",
    "\n",
    "conn.close()"
   ]
  },
  {
   "cell_type": "code",
   "execution_count": 10,
   "metadata": {},
   "outputs": [],
   "source": [
    "#Вставка даних в stock\n",
    "from datetime import datetime\n",
    "\n",
    "\n",
    "sql_text = \"\"\"INSERT INTO stock (product_id, operation_date, supplier, qty) VALUES (?, ?, ?, ?)\"\"\"\n",
    "\n",
    "\n",
    "conn = sqlite3.connect('store.db')\n",
    "curs = conn.cursor()\n",
    "\n",
    "curs.execute(sql_text, (1, datetime.now(), 'Виробник 1', 10))\n",
    "conn.commit()\n",
    "\n",
    "conn.close()"
   ]
  },
  {
   "cell_type": "code",
   "execution_count": 12,
   "metadata": {},
   "outputs": [],
   "source": [
    "#Вставка даних в stock\n",
    "from datetime import datetime\n",
    "\n",
    "\n",
    "sql_text = \"\"\"INSERT INTO stock (product_id, operation_date, supplier, qty) VALUES (?, ?, ?, ?)\"\"\"\n",
    "\n",
    "\n",
    "conn = sqlite3.connect('store.db')\n",
    "curs = conn.cursor()\n",
    "\n",
    "curs.execute(sql_text, (1, datetime.now(), 'Клієнт 2', -2))\n",
    "conn.commit()\n",
    "\n",
    "conn.close()"
   ]
  },
  {
   "cell_type": "code",
   "execution_count": 14,
   "metadata": {},
   "outputs": [
    {
     "name": "stdout",
     "output_type": "stream",
     "text": [
      "[(1, 5.0)]\n"
     ]
    },
    {
     "data": {
      "text/plain": [
       "<function Connection.close>"
      ]
     },
     "execution_count": 14,
     "metadata": {},
     "output_type": "execute_result"
    }
   ],
   "source": [
    "# Вибірка даних\n",
    "from datetime import datetime\n",
    "\n",
    "\n",
    "sql_text = \"\"\"SELECT product_id, SUM(qty) FROM stock GROUP BY product_id\"\"\"\n",
    "\n",
    "\n",
    "conn = sqlite3.connect('store.db')\n",
    "curs = conn.cursor()\n",
    "\n",
    "print(curs.execute(sql_text).fetchall())\n",
    "\n",
    "\n",
    "conn.close()"
   ]
  },
  {
   "cell_type": "code",
   "execution_count": null,
   "metadata": {},
   "outputs": [],
   "source": []
  }
 ],
 "metadata": {
  "kernelspec": {
   "display_name": "Python 3",
   "language": "python",
   "name": "python3"
  },
  "language_info": {
   "codemirror_mode": {
    "name": "ipython",
    "version": 3
   },
   "file_extension": ".py",
   "mimetype": "text/x-python",
   "name": "python",
   "nbconvert_exporter": "python",
   "pygments_lexer": "ipython3",
   "version": "3.7.6"
  }
 },
 "nbformat": 4,
 "nbformat_minor": 4
}
