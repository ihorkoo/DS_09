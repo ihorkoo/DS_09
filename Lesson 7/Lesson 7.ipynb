{
 "cells": [
  {
   "cell_type": "code",
   "execution_count": 1,
   "metadata": {},
   "outputs": [
    {
     "name": "stdout",
     "output_type": "stream",
     "text": [
      "Requirement already satisfied: requests in c:\\users\\i.betlei\\anaconda3\\lib\\site-packages (2.22.0)\n",
      "Requirement already satisfied: chardet<3.1.0,>=3.0.2 in c:\\users\\i.betlei\\anaconda3\\lib\\site-packages (from requests) (3.0.4)\n",
      "Requirement already satisfied: urllib3!=1.25.0,!=1.25.1,<1.26,>=1.21.1 in c:\\users\\i.betlei\\anaconda3\\lib\\site-packages (from requests) (1.25.8)\n",
      "Requirement already satisfied: certifi>=2017.4.17 in c:\\users\\i.betlei\\anaconda3\\lib\\site-packages (from requests) (2020.6.20)\n",
      "Requirement already satisfied: idna<2.9,>=2.5 in c:\\users\\i.betlei\\anaconda3\\lib\\site-packages (from requests) (2.8)\n"
     ]
    }
   ],
   "source": [
    "# !pip install requests"
   ]
  },
  {
   "cell_type": "code",
   "execution_count": 9,
   "metadata": {},
   "outputs": [],
   "source": [
    "import requests\n",
    "\n",
    "link = \"https://bank.gov.ua/NBUStatService/v1/statdirectory/exchange?json\"\n",
    "\n",
    "\n",
    "r = requests.get(link).json()"
   ]
  },
  {
   "cell_type": "code",
   "execution_count": 17,
   "metadata": {},
   "outputs": [
    {
     "name": "stdout",
     "output_type": "stream",
     "text": [
      "26.419\n"
     ]
    }
   ],
   "source": [
    "# Вивести курс долара\n",
    "for cur in r:\n",
    "    if cur['cc'] == 'USD':\n",
    "        print(cur['rate'])"
   ]
  },
  {
   "cell_type": "code",
   "execution_count": 19,
   "metadata": {},
   "outputs": [
    {
     "name": "stdout",
     "output_type": "stream",
     "text": [
      "PLN\n",
      "6.6641\n"
     ]
    }
   ],
   "source": [
    "# Вивести курс валюти, що  введена користувачем\n",
    "cc = input()\n",
    "\n",
    "for cur in r:\n",
    "    if cur['cc'] == cc:\n",
    "        print(cur['rate'])"
   ]
  },
  {
   "cell_type": "code",
   "execution_count": 25,
   "metadata": {},
   "outputs": [
    {
     "data": {
      "text/plain": [
       "[{'r030': 36,\n",
       "  'txt': 'Австралійський долар',\n",
       "  'rate': 19.6081,\n",
       "  'cc': 'AUD',\n",
       "  'exchangedate': '20.10.2021'},\n",
       " {'r030': 124,\n",
       "  'txt': 'Канадський долар',\n",
       "  'rate': 21.2686,\n",
       "  'cc': 'CAD',\n",
       "  'exchangedate': '20.10.2021'},\n",
       " {'r030': 156,\n",
       "  'txt': 'Юань Женьміньбі',\n",
       "  'rate': 4.113,\n",
       "  'cc': 'CNY',\n",
       "  'exchangedate': '20.10.2021'},\n",
       " {'r030': 191,\n",
       "  'txt': 'Куна',\n",
       "  'rate': 4.0761,\n",
       "  'cc': 'HRK',\n",
       "  'exchangedate': '20.10.2021'},\n",
       " {'r030': 203,\n",
       "  'txt': 'Чеська крона',\n",
       "  'rate': 1.2,\n",
       "  'cc': 'CZK',\n",
       "  'exchangedate': '20.10.2021'},\n",
       " {'r030': 208,\n",
       "  'txt': 'Данська крона',\n",
       "  'rate': 4.1133,\n",
       "  'cc': 'DKK',\n",
       "  'exchangedate': '20.10.2021'},\n",
       " {'r030': 344,\n",
       "  'txt': 'Гонконгівський долар',\n",
       "  'rate': 3.3784,\n",
       "  'cc': 'HKD',\n",
       "  'exchangedate': '20.10.2021'},\n",
       " {'r030': 348,\n",
       "  'txt': 'Форинт',\n",
       "  'rate': 0.084839,\n",
       "  'cc': 'HUF',\n",
       "  'exchangedate': '20.10.2021'},\n",
       " {'r030': 356,\n",
       "  'txt': 'Індійська рупія',\n",
       "  'rate': 0.34869,\n",
       "  'cc': 'INR',\n",
       "  'exchangedate': '20.10.2021'},\n",
       " {'r030': 360,\n",
       "  'txt': 'Рупія',\n",
       "  'rate': 0.0018663,\n",
       "  'cc': 'IDR',\n",
       "  'exchangedate': '20.10.2021'},\n",
       " {'r030': 376,\n",
       "  'txt': 'Новий ізраїльський шекель',\n",
       "  'rate': 8.1798,\n",
       "  'cc': 'ILS',\n",
       "  'exchangedate': '20.10.2021'},\n",
       " {'r030': 392,\n",
       "  'txt': 'Єна',\n",
       "  'rate': 0.22982,\n",
       "  'cc': 'JPY',\n",
       "  'exchangedate': '20.10.2021'},\n",
       " {'r030': 398,\n",
       "  'txt': 'Теньге',\n",
       "  'rate': 0.06169,\n",
       "  'cc': 'KZT',\n",
       "  'exchangedate': '20.10.2021'},\n",
       " {'r030': 410,\n",
       "  'txt': 'Вона',\n",
       "  'rate': 0.022275,\n",
       "  'cc': 'KRW',\n",
       "  'exchangedate': '20.10.2021'},\n",
       " {'r030': 484,\n",
       "  'txt': 'Мексиканське песо',\n",
       "  'rate': 1.2909,\n",
       "  'cc': 'MXN',\n",
       "  'exchangedate': '20.10.2021'},\n",
       " {'r030': 498,\n",
       "  'txt': 'Молдовський лей',\n",
       "  'rate': 1.5187,\n",
       "  'cc': 'MDL',\n",
       "  'exchangedate': '20.10.2021'},\n",
       " {'r030': 554,\n",
       "  'txt': 'Новозеландський долар',\n",
       "  'rate': 18.7884,\n",
       "  'cc': 'NZD',\n",
       "  'exchangedate': '20.10.2021'},\n",
       " {'r030': 578,\n",
       "  'txt': 'Норвезька крона',\n",
       "  'rate': 3.1416,\n",
       "  'cc': 'NOK',\n",
       "  'exchangedate': '20.10.2021'},\n",
       " {'r030': 643,\n",
       "  'txt': 'Російський рубль',\n",
       "  'rate': 0.37029,\n",
       "  'cc': 'RUB',\n",
       "  'exchangedate': '20.10.2021'},\n",
       " {'r030': 682,\n",
       "  'txt': 'Саудівський ріял',\n",
       "  'rate': 7.0042,\n",
       "  'cc': 'SAR',\n",
       "  'exchangedate': '20.10.2021'},\n",
       " {'r030': 702,\n",
       "  'txt': 'Сінгапурський долар',\n",
       "  'rate': 19.5389,\n",
       "  'cc': 'SGD',\n",
       "  'exchangedate': '20.10.2021'},\n",
       " {'r030': 710,\n",
       "  'txt': 'Ренд',\n",
       "  'rate': 1.8002,\n",
       "  'cc': 'ZAR',\n",
       "  'exchangedate': '20.10.2021'},\n",
       " {'r030': 752,\n",
       "  'txt': 'Шведська крона',\n",
       "  'rate': 3.0518,\n",
       "  'cc': 'SEK',\n",
       "  'exchangedate': '20.10.2021'},\n",
       " {'r030': 756,\n",
       "  'txt': 'Швейцарський франк',\n",
       "  'rate': 28.5581,\n",
       "  'cc': 'CHF',\n",
       "  'exchangedate': '20.10.2021'},\n",
       " {'r030': 818,\n",
       "  'txt': 'Єгипетський фунт',\n",
       "  'rate': 1.6695,\n",
       "  'cc': 'EGP',\n",
       "  'exchangedate': '20.10.2021'},\n",
       " {'r030': 826,\n",
       "  'txt': 'Фунт стерлінгів',\n",
       "  'rate': 36.3132,\n",
       "  'cc': 'GBP',\n",
       "  'exchangedate': '20.10.2021'},\n",
       " {'r030': 840,\n",
       "  'txt': 'Долар США',\n",
       "  'rate': 26.272,\n",
       "  'cc': 'USD',\n",
       "  'exchangedate': '20.10.2021'},\n",
       " {'r030': 933,\n",
       "  'txt': 'Білоруський рубль',\n",
       "  'rate': 10.7805,\n",
       "  'cc': 'BYN',\n",
       "  'exchangedate': '20.10.2021'},\n",
       " {'r030': 946,\n",
       "  'txt': 'Румунський лей',\n",
       "  'rate': 6.1846,\n",
       "  'cc': 'RON',\n",
       "  'exchangedate': '20.10.2021'},\n",
       " {'r030': 949,\n",
       "  'txt': 'Турецька ліра',\n",
       "  'rate': 2.8203,\n",
       "  'cc': 'TRY',\n",
       "  'exchangedate': '20.10.2021'},\n",
       " {'r030': 960,\n",
       "  'txt': 'СПЗ (спеціальні права запозичення)',\n",
       "  'rate': 37.1798,\n",
       "  'cc': 'XDR',\n",
       "  'exchangedate': '20.10.2021'},\n",
       " {'r030': 975,\n",
       "  'txt': 'Болгарський лев',\n",
       "  'rate': 15.6539,\n",
       "  'cc': 'BGN',\n",
       "  'exchangedate': '20.10.2021'},\n",
       " {'r030': 978,\n",
       "  'txt': 'Євро',\n",
       "  'rate': 30.6056,\n",
       "  'cc': 'EUR',\n",
       "  'exchangedate': '20.10.2021'},\n",
       " {'r030': 985,\n",
       "  'txt': 'Злотий',\n",
       "  'rate': 6.6942,\n",
       "  'cc': 'PLN',\n",
       "  'exchangedate': '20.10.2021'},\n",
       " {'r030': 12,\n",
       "  'txt': 'Алжирський динар',\n",
       "  'rate': 0.1942,\n",
       "  'cc': 'DZD',\n",
       "  'exchangedate': '20.10.2021'},\n",
       " {'r030': 50,\n",
       "  'txt': 'Така',\n",
       "  'rate': 0.31132,\n",
       "  'cc': 'BDT',\n",
       "  'exchangedate': '20.10.2021'},\n",
       " {'r030': 51,\n",
       "  'txt': 'Вірменський драм',\n",
       "  'rate': 0.054972,\n",
       "  'cc': 'AMD',\n",
       "  'exchangedate': '20.10.2021'},\n",
       " {'r030': 364,\n",
       "  'txt': 'Іранський ріал',\n",
       "  'rate': 0.00063375,\n",
       "  'cc': 'IRR',\n",
       "  'exchangedate': '20.10.2021'},\n",
       " {'r030': 368,\n",
       "  'txt': 'Іракський динар',\n",
       "  'rate': 0.018231,\n",
       "  'cc': 'IQD',\n",
       "  'exchangedate': '20.10.2021'},\n",
       " {'r030': 417,\n",
       "  'txt': 'Сом',\n",
       "  'rate': 0.31389,\n",
       "  'cc': 'KGS',\n",
       "  'exchangedate': '20.10.2021'},\n",
       " {'r030': 422,\n",
       "  'txt': 'Ліванський фунт',\n",
       "  'rate': 0.017657,\n",
       "  'cc': 'LBP',\n",
       "  'exchangedate': '20.10.2021'},\n",
       " {'r030': 434,\n",
       "  'txt': 'Лівійський динар',\n",
       "  'rate': 5.8373,\n",
       "  'cc': 'LYD',\n",
       "  'exchangedate': '20.10.2021'},\n",
       " {'r030': 458,\n",
       "  'txt': 'Малайзійський ринггіт',\n",
       "  'rate': 6.3551,\n",
       "  'cc': 'MYR',\n",
       "  'exchangedate': '20.10.2021'},\n",
       " {'r030': 504,\n",
       "  'txt': 'Марокканський дирхам',\n",
       "  'rate': 2.9409,\n",
       "  'cc': 'MAD',\n",
       "  'exchangedate': '20.10.2021'},\n",
       " {'r030': 586,\n",
       "  'txt': 'Пакистанська рупія',\n",
       "  'rate': 0.15613,\n",
       "  'cc': 'PKR',\n",
       "  'exchangedate': '20.10.2021'},\n",
       " {'r030': 704,\n",
       "  'txt': 'Донг',\n",
       "  'rate': 0.0011694,\n",
       "  'cc': 'VND',\n",
       "  'exchangedate': '20.10.2021'},\n",
       " {'r030': 764,\n",
       "  'txt': 'Бат',\n",
       "  'rate': 0.78536,\n",
       "  'cc': 'THB',\n",
       "  'exchangedate': '20.10.2021'},\n",
       " {'r030': 784,\n",
       "  'txt': 'Дирхам ОАЕ',\n",
       "  'rate': 7.2468,\n",
       "  'cc': 'AED',\n",
       "  'exchangedate': '20.10.2021'},\n",
       " {'r030': 788,\n",
       "  'txt': 'Туніський динар',\n",
       "  'rate': 9.4198,\n",
       "  'cc': 'TND',\n",
       "  'exchangedate': '20.10.2021'},\n",
       " {'r030': 860,\n",
       "  'txt': 'Узбецький сум',\n",
       "  'rate': 0.0024895,\n",
       "  'cc': 'UZS',\n",
       "  'exchangedate': '20.10.2021'},\n",
       " {'r030': 934,\n",
       "  'txt': 'Туркменський новий манат',\n",
       "  'rate': 7.605,\n",
       "  'cc': 'TMT',\n",
       "  'exchangedate': '20.10.2021'},\n",
       " {'r030': 941,\n",
       "  'txt': 'Сербський динар',\n",
       "  'rate': 0.26211,\n",
       "  'cc': 'RSD',\n",
       "  'exchangedate': '20.10.2021'},\n",
       " {'r030': 944,\n",
       "  'txt': 'Азербайджанський манат',\n",
       "  'rate': 15.662,\n",
       "  'cc': 'AZN',\n",
       "  'exchangedate': '20.10.2021'},\n",
       " {'r030': 972,\n",
       "  'txt': 'Сомоні',\n",
       "  'rate': 2.3536,\n",
       "  'cc': 'TJS',\n",
       "  'exchangedate': '20.10.2021'},\n",
       " {'r030': 981,\n",
       "  'txt': 'Ларі',\n",
       "  'rate': 8.5403,\n",
       "  'cc': 'GEL',\n",
       "  'exchangedate': '20.10.2021'},\n",
       " {'r030': 986,\n",
       "  'txt': 'Бразильський реал',\n",
       "  'rate': 4.9316,\n",
       "  'cc': 'BRL',\n",
       "  'exchangedate': '20.10.2021'},\n",
       " {'r030': 959,\n",
       "  'txt': 'Золото',\n",
       "  'rate': 46728.43,\n",
       "  'cc': 'XAU',\n",
       "  'exchangedate': '20.10.2021'},\n",
       " {'r030': 961,\n",
       "  'txt': 'Срібло',\n",
       "  'rate': 628.24,\n",
       "  'cc': 'XAG',\n",
       "  'exchangedate': '20.10.2021'},\n",
       " {'r030': 962,\n",
       "  'txt': 'Платина',\n",
       "  'rate': 27673.35,\n",
       "  'cc': 'XPT',\n",
       "  'exchangedate': '20.10.2021'},\n",
       " {'r030': 964,\n",
       "  'txt': 'Паладій',\n",
       "  'rate': 54662.31,\n",
       "  'cc': 'XPD',\n",
       "  'exchangedate': '20.10.2021'}]"
      ]
     },
     "execution_count": 25,
     "metadata": {},
     "output_type": "execute_result"
    }
   ],
   "source": [
    "# курс на дату\n",
    "import requests\n",
    "\n",
    "params = {'date' : '20211020', 'json' : 'json'}\n",
    "link = 'https://bank.gov.ua/NBUStatService/v1/statdirectory/exchange'\n",
    "\n",
    "response = requests.get(link, params=params).json()\n",
    "response"
   ]
  },
  {
   "cell_type": "markdown",
   "metadata": {},
   "source": [
    "### Робота з датою та часом\n",
    "\n",
    "datetime:\n",
    "- datetime\n",
    "- date\n",
    "- timedelta\n",
    "- ?"
   ]
  },
  {
   "cell_type": "code",
   "execution_count": 28,
   "metadata": {},
   "outputs": [],
   "source": [
    "import datetime\n",
    "\n",
    "date = datetime.datetime.now()"
   ]
  },
  {
   "cell_type": "code",
   "execution_count": 30,
   "metadata": {},
   "outputs": [
    {
     "data": {
      "text/plain": [
       "2021"
      ]
     },
     "execution_count": 30,
     "metadata": {},
     "output_type": "execute_result"
    }
   ],
   "source": [
    "date.year"
   ]
  },
  {
   "cell_type": "code",
   "execution_count": 38,
   "metadata": {},
   "outputs": [
    {
     "data": {
      "text/plain": [
       "'20211026'"
      ]
     },
     "execution_count": 38,
     "metadata": {},
     "output_type": "execute_result"
    }
   ],
   "source": [
    "date.strftime('%Y%m%d')"
   ]
  },
  {
   "cell_type": "code",
   "execution_count": 41,
   "metadata": {},
   "outputs": [
    {
     "data": {
      "text/plain": [
       "datetime.datetime(2021, 7, 18, 19, 55, 40, 614357)"
      ]
     },
     "execution_count": 41,
     "metadata": {},
     "output_type": "execute_result"
    }
   ],
   "source": [
    "date - datetime.timedelta(days=100)"
   ]
  },
  {
   "cell_type": "markdown",
   "metadata": {},
   "source": [
    "-----"
   ]
  },
  {
   "cell_type": "code",
   "execution_count": 51,
   "metadata": {},
   "outputs": [
    {
     "name": "stdout",
     "output_type": "stream",
     "text": [
      "Опрацювали днів: 1\n",
      "Щось пішло не так\n",
      "Опрацювали днів: 2\n",
      "Щось пішло не так\n",
      "Опрацювали днів: 3\n",
      "Щось пішло не так\n",
      "Опрацювали днів: 4\n",
      "Щось пішло не так\n",
      "Опрацювали днів: 5\n",
      "Щось пішло не так\n",
      "Опрацювали днів: 6\n",
      "Щось пішло не так\n",
      "Опрацювали днів: 7\n",
      "Щось пішло не так\n",
      "Опрацювали днів: 8\n",
      "Щось пішло не так\n",
      "Опрацювали днів: 9\n",
      "Щось пішло не так\n",
      "Опрацювали днів: 10\n",
      "Щось пішло не так\n",
      "Опрацювали днів: 11\n",
      "Щось пішло не так\n",
      "Опрацювали днів: 12\n",
      "Щось пішло не так\n",
      "Опрацювали днів: 13\n",
      "Щось пішло не так\n",
      "Опрацювали днів: 14\n",
      "Щось пішло не так\n",
      "Опрацювали днів: 15\n",
      "Щось пішло не так\n",
      "Опрацювали днів: 16\n",
      "Щось пішло не так\n",
      "Опрацювали днів: 17\n",
      "Щось пішло не так\n",
      "Опрацювали днів: 18\n",
      "Щось пішло не так\n",
      "Опрацювали днів: 19\n",
      "Щось пішло не так\n",
      "Опрацювали днів: 20\n",
      "Щось пішло не так\n",
      "Опрацювали днів: 21\n",
      "Щось пішло не так\n",
      "Опрацювали днів: 22\n",
      "Щось пішло не так\n",
      "Опрацювали днів: 23\n",
      "Щось пішло не так\n",
      "Опрацювали днів: 24\n",
      "Щось пішло не так\n",
      "Опрацювали днів: 25\n",
      "Щось пішло не так\n",
      "Опрацювали днів: 26\n",
      "Щось пішло не так\n",
      "Опрацювали днів: 27\n",
      "Щось пішло не так\n",
      "Опрацювали днів: 28\n",
      "Щось пішло не так\n",
      "Опрацювали днів: 29\n",
      "Щось пішло не так\n",
      "Опрацювали днів: 30\n",
      "Щось пішло не так\n"
     ]
    }
   ],
   "source": [
    "# Вивести курс долара за останні 30 днів\n",
    "\n",
    "import requests\n",
    "from datetime import datetime, timedelta\n",
    "\n",
    "MONTH_USD = []\n",
    "\n",
    "date = datetime.now()\n",
    "link = 'https://bank.gov.ua/NBUStatService/v1/statdirectory/exchange'\n",
    "params = {\n",
    "    'valcode' : 'USD', \n",
    "    'json' : 'json', \n",
    "    'date' : date.strftime('%Y%m%d')\n",
    "}\n",
    "\n",
    "for i in range(1, 31):\n",
    "    \n",
    "    print(f'Опрацювали днів: {i}')\n",
    "    try:\n",
    "        result = requests.get(link, params).json()\n",
    "        MONTH_USD.extend(result)\n",
    "    except:\n",
    "        print('Error')\n",
    "    \n",
    "    params['date'] = (date - timedelta(days=i)).strftime('%Y%m%d')\n"
   ]
  },
  {
   "cell_type": "code",
   "execution_count": 50,
   "metadata": {},
   "outputs": [
    {
     "data": {
      "text/plain": [
       "30"
      ]
     },
     "execution_count": 50,
     "metadata": {},
     "output_type": "execute_result"
    }
   ],
   "source": [
    "len(MONTH_USD)"
   ]
  },
  {
   "cell_type": "code",
   "execution_count": null,
   "metadata": {},
   "outputs": [],
   "source": [
    "# Є список слів, ті, що написані неправильно - потрібно виправити\n",
    "list_with_words = ['Програміст', 'виликий', 'інтернит', 'слово']"
   ]
  },
  {
   "cell_type": "code",
   "execution_count": 55,
   "metadata": {},
   "outputs": [],
   "source": [
    "import requests\n",
    "\n",
    "headers = {\n",
    "    'authority': 'www.google.com',\n",
    "    'cache-control': 'max-age=0',\n",
    "    'sec-ch-ua': '\"Google Chrome\";v=\"87\", \" Not;A Brand\";v=\"99\", \"Chromium\";v=\"87\"',\n",
    "    'sec-ch-ua-mobile': '?0',\n",
    "    'upgrade-insecure-requests': '1',\n",
    "    'user-agent': 'Mozilla/5.0 (Windows NT 10.0; Win64; x64) AppleWebKit/537.36 (KHTML, like Gecko) Chrome/87.0.4280.88 Safari/537.36',\n",
    "    'accept': 'text/html,application/xhtml+xml,application/xml;q=0.9,image/avif,image/webp,image/apng,*/*;q=0.8,application/signed-exchange;v=b3;q=0.9',\n",
    "    'x-client-data': 'CIu2yQEIorbJAQjBtskBCKmdygEIrMfKAQj4x8oBCKPNygEI3NXKAQin+csB',\n",
    "    'sec-fetch-site': 'same-origin',\n",
    "    'sec-fetch-mode': 'navigate',\n",
    "    'sec-fetch-user': '?1',\n",
    "    'sec-fetch-dest': 'document',\n",
    "    'accept-language': 'uk'\n",
    "}\n",
    "    \n",
    "\n",
    "params = {'q' : 'виликий'}\n",
    "\n",
    "res = requests.get('https://www.google.com/search', params=params, headers=headers)\n"
   ]
  },
  {
   "cell_type": "code",
   "execution_count": 56,
   "metadata": {},
   "outputs": [
    {
     "name": "stdout",
     "output_type": "stream",
     "text": [
      "Requirement already satisfied: bs4 in c:\\users\\i.betlei\\anaconda3\\lib\\site-packages (0.0.1)\n",
      "Requirement already satisfied: beautifulsoup4 in c:\\users\\i.betlei\\anaconda3\\lib\\site-packages (from bs4) (4.8.2)\n",
      "Requirement already satisfied: soupsieve>=1.2 in c:\\users\\i.betlei\\anaconda3\\lib\\site-packages (from beautifulsoup4->bs4) (1.9.5)\n"
     ]
    }
   ],
   "source": [
    "# !pip install bs4"
   ]
  },
  {
   "cell_type": "code",
   "execution_count": 57,
   "metadata": {},
   "outputs": [
    {
     "name": "stdout",
     "output_type": "stream",
     "text": [
      "Requirement already satisfied: lxml in c:\\users\\i.betlei\\anaconda3\\lib\\site-packages (4.5.0)\n"
     ]
    }
   ],
   "source": [
    "# !pip install lxml"
   ]
  },
  {
   "cell_type": "code",
   "execution_count": 62,
   "metadata": {},
   "outputs": [
    {
     "name": "stdout",
     "output_type": "stream",
     "text": [
      "Слово коректне\n",
      "Слово коректне\n"
     ]
    },
    {
     "data": {
      "text/plain": [
       "['Програміст', 'великий', 'інтернет', 'слово']"
      ]
     },
     "execution_count": 62,
     "metadata": {},
     "output_type": "execute_result"
    }
   ],
   "source": [
    "import requests\n",
    "from bs4 import BeautifulSoup\n",
    "\n",
    "list_with_words = ['Програміст', 'виликий', 'інтернит', 'слово']\n",
    "\n",
    "headers = {\n",
    "    'authority': 'www.google.com',\n",
    "    'cache-control': 'max-age=0',\n",
    "    'sec-ch-ua': '\"Google Chrome\";v=\"87\", \" Not;A Brand\";v=\"99\", \"Chromium\";v=\"87\"',\n",
    "    'sec-ch-ua-mobile': '?0',\n",
    "    'upgrade-insecure-requests': '1',\n",
    "    'user-agent': 'Mozilla/5.0 (Windows NT 10.0; Win64; x64) AppleWebKit/537.36 (KHTML, like Gecko) Chrome/87.0.4280.88 Safari/537.36',\n",
    "    'accept': 'text/html,application/xhtml+xml,application/xml;q=0.9,image/avif,image/webp,image/apng,*/*;q=0.8,application/signed-exchange;v=b3;q=0.9',\n",
    "    'x-client-data': 'CIu2yQEIorbJAQjBtskBCKmdygEIrMfKAQj4x8oBCKPNygEI3NXKAQin+csB',\n",
    "    'sec-fetch-site': 'same-origin',\n",
    "    'sec-fetch-mode': 'navigate',\n",
    "    'sec-fetch-user': '?1',\n",
    "    'sec-fetch-dest': 'document',\n",
    "    'accept-language': 'uk'\n",
    "}\n",
    "    \n",
    "\n",
    "    \n",
    "for i in range(len(list_with_words)):\n",
    "    \n",
    "    params = {'q' : list_with_words[i]}\n",
    "\n",
    "    res = requests.get('https://www.google.com/search', params=params, headers=headers)\n",
    "\n",
    "    soup = BeautifulSoup(res.text, 'lxml')\n",
    "    try:\n",
    "        correct = soup.find('a', id='fprsl').text\n",
    "        list_with_words[i] = correct\n",
    "    except AttributeError:\n",
    "        pass\n",
    "        \n",
    "list_with_words"
   ]
  },
  {
   "cell_type": "code",
   "execution_count": 68,
   "metadata": {},
   "outputs": [
    {
     "data": {
      "text/plain": [
       "<p aria-level=\"3\" class=\"p64x9c card-section KDCVqf\" id=\"fprs\" role=\"heading\"><span class=\"gL9Hy\">Відображення результатів для запиту:</span> <a class=\"gL9Hy\" data-ved=\"2ahUKEwjlzJyD0ejzAhWJLqYKHQCQBVoQkeECKAB6BAgBEDY\" href=\"/search?q=%D0%B2%D0%B5%D0%BB%D0%B8%D0%BA%D0%B8%D0%B9&amp;spell=1&amp;sa=X&amp;ved=2ahUKEwjlzJyD0ejzAhWJLqYKHQCQBVoQkeECKAB6BAgBEDY\" id=\"fprsl\"><b><i>великий</i></b></a><script nonce=\"udtZphTdwTiW4z4EvmXk8A==\">(function(){var q='великий';var fprsl=document.getElementById('fprsl');fprsl.onclick = function(e){var orig = document.getElementsByName('q')[0].value;if(google.ac&&google.ac.ou){google.ac.ou(q);}else{document.getElementsByName('q')[0].value=q;}\n",
       "document.getElementById(\"fprs\").outerHTML='';document.title = document.title.replace(orig,q);google.log('','&ved='+fprsl.dataset['ved'],'',fprsl);e.preventDefault();};})();</script><br/><span class=\"spell_orig\">Натомість шукати</span> <a class=\"spell_orig\" href=\"/search?q=%D0%B2%D0%B8%D0%BB%D0%B8%D0%BA%D0%B8%D0%B9&amp;nfpr=1&amp;sa=X&amp;ved=2ahUKEwjlzJyD0ejzAhWJLqYKHQCQBVoQvgUoAXoECAEQNw\">виликий</a><br/></p>"
      ]
     },
     "execution_count": 68,
     "metadata": {},
     "output_type": "execute_result"
    }
   ],
   "source": [
    "res = requests.get('https://www.google.com/search', params={'q' : 'виликий'}, headers=headers)\n",
    "\n",
    "soup = BeautifulSoup(res.text, 'lxml')\n",
    "    \n",
    "soup.p"
   ]
  },
  {
   "cell_type": "code",
   "execution_count": 84,
   "metadata": {},
   "outputs": [
    {
     "data": {
      "text/plain": [
       "'Пошук Google'"
      ]
     },
     "execution_count": 84,
     "metadata": {},
     "output_type": "execute_result"
    }
   ],
   "source": [
    "soup.find_all('a')[5].parent.parent.parent.find('button').get('aria-label')"
   ]
  },
  {
   "cell_type": "code",
   "execution_count": null,
   "metadata": {},
   "outputs": [],
   "source": []
  }
 ],
 "metadata": {
  "kernelspec": {
   "display_name": "Python 3",
   "language": "python",
   "name": "python3"
  },
  "language_info": {
   "codemirror_mode": {
    "name": "ipython",
    "version": 3
   },
   "file_extension": ".py",
   "mimetype": "text/x-python",
   "name": "python",
   "nbconvert_exporter": "python",
   "pygments_lexer": "ipython3",
   "version": "3.7.6"
  }
 },
 "nbformat": 4,
 "nbformat_minor": 4
}
